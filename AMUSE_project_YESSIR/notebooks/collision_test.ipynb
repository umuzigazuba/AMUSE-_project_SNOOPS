{
 "cells": [
  {
   "cell_type": "code",
   "execution_count": 1,
   "metadata": {},
   "outputs": [
    {
     "ename": "ModuleNotFoundError",
     "evalue": "No module named 'plotting_functions'",
     "output_type": "error",
     "traceback": [
      "\u001b[0;31m---------------------------------------------------------------------------\u001b[0m",
      "\u001b[0;31mModuleNotFoundError\u001b[0m                       Traceback (most recent call last)",
      "\u001b[1;32m/home/umuzigazuba/notebook/AMUSE_project_YESSIR/AMUSE_project_YESSIR/notebooks/collision_test.ipynb Cell 1\u001b[0m line \u001b[0;36m8\n\u001b[1;32m      <a href='vscode-notebook-cell://wsl%2Bubuntu/home/umuzigazuba/notebook/AMUSE_project_YESSIR/AMUSE_project_YESSIR/notebooks/collision_test.ipynb#W0sdnNjb2RlLXJlbW90ZQ%3D%3D?line=4'>5</a>\u001b[0m sys\u001b[39m.\u001b[39mpath\u001b[39m.\u001b[39mappend(os\u001b[39m.\u001b[39mpath\u001b[39m.\u001b[39mdirname(SCRIPT_DIR))\n\u001b[1;32m      <a href='vscode-notebook-cell://wsl%2Bubuntu/home/umuzigazuba/notebook/AMUSE_project_YESSIR/AMUSE_project_YESSIR/notebooks/collision_test.ipynb#W0sdnNjb2RlLXJlbW90ZQ%3D%3D?line=6'>7</a>\u001b[0m \u001b[39mfrom\u001b[39;00m \u001b[39msrc\u001b[39;00m\u001b[39m.\u001b[39;00m\u001b[39mcluster_cloud_initialization\u001b[39;00m \u001b[39mimport\u001b[39;00m \u001b[39m*\u001b[39m\n\u001b[0;32m----> <a href='vscode-notebook-cell://wsl%2Bubuntu/home/umuzigazuba/notebook/AMUSE_project_YESSIR/AMUSE_project_YESSIR/notebooks/collision_test.ipynb#W0sdnNjb2RlLXJlbW90ZQ%3D%3D?line=7'>8</a>\u001b[0m \u001b[39mfrom\u001b[39;00m \u001b[39msrc\u001b[39;00m\u001b[39m.\u001b[39;00m\u001b[39mmolecular_cloud_initialization\u001b[39;00m \u001b[39mimport\u001b[39;00m \u001b[39m*\u001b[39m\n",
      "File \u001b[0;32m~/notebook/AMUSE_project_YESSIR/AMUSE_project_YESSIR/src/molecular_cloud_initialization.py:15\u001b[0m\n\u001b[1;32m     13\u001b[0m \u001b[39mimport\u001b[39;00m \u001b[39mos\u001b[39;00m\n\u001b[1;32m     14\u001b[0m os\u001b[39m.\u001b[39mchdir(os\u001b[39m.\u001b[39mpath\u001b[39m.\u001b[39mdirname(os\u001b[39m.\u001b[39mpath\u001b[39m.\u001b[39mabspath(\u001b[39m\"\u001b[39m\u001b[39mAMUSE_project_YESSIR\u001b[39m\u001b[39m\"\u001b[39m)))\n\u001b[0;32m---> 15\u001b[0m \u001b[39mfrom\u001b[39;00m \u001b[39mplotting_functions\u001b[39;00m \u001b[39mimport\u001b[39;00m plot_hydro\n\u001b[1;32m     17\u001b[0m \u001b[39m# %%\u001b[39;00m\n\u001b[1;32m     19\u001b[0m \u001b[39mdef\u001b[39;00m \u001b[39mmake_molecular_cloud\u001b[39m(N_cloud, M_cloud, R_cloud, seed):\n",
      "\u001b[0;31mModuleNotFoundError\u001b[0m: No module named 'plotting_functions'"
     ]
    }
   ],
   "source": [
    "import sys\n",
    "import os\n",
    "\n",
    "SCRIPT_DIR = os.path.dirname(os.path.abspath(\"AMUSE_project_YESSIR\"))\n",
    "sys.path.append(os.path.dirname(SCRIPT_DIR))\n",
    "\n",
    "from src.cluster_cloud_initialization import *\n",
    "from src.molecular_cloud_initialization import *"
   ]
  },
  {
   "cell_type": "code",
   "execution_count": 2,
   "metadata": {},
   "outputs": [],
   "source": [
    "cloud = make_molecular_cloud(10000,100000 | units.MSun, 200 | units.pc, 999)"
   ]
  },
  {
   "cell_type": "code",
   "execution_count": 4,
   "metadata": {},
   "outputs": [
    {
     "ename": "NameError",
     "evalue": "name 'plot_hydro' is not defined",
     "output_type": "error",
     "traceback": [
      "\u001b[0;31m---------------------------------------------------------------------------\u001b[0m",
      "\u001b[0;31mNameError\u001b[0m                                 Traceback (most recent call last)",
      "\u001b[1;32m/home/umuzigazuba/notebook/AMUSE_project_YESSIR/AMUSE_project_YESSIR/notebooks/collision_test.ipynb Cell 3\u001b[0m line \u001b[0;36m2\n\u001b[1;32m      <a href='vscode-notebook-cell://wsl%2Bubuntu/home/umuzigazuba/notebook/AMUSE_project_YESSIR/AMUSE_project_YESSIR/notebooks/collision_test.ipynb#W2sdnNjb2RlLXJlbW90ZQ%3D%3D?line=0'>1</a>\u001b[0m particles_cloud, converter_cloud \u001b[39m=\u001b[39m make_molecular_cloud(\u001b[39m100_000\u001b[39m, \u001b[39m10_000_000\u001b[39m \u001b[39m|\u001b[39m units\u001b[39m.\u001b[39mMSun, \u001b[39m200\u001b[39m \u001b[39m|\u001b[39m units\u001b[39m.\u001b[39mparsec, \u001b[39m1312\u001b[39m)\n\u001b[0;32m----> <a href='vscode-notebook-cell://wsl%2Bubuntu/home/umuzigazuba/notebook/AMUSE_project_YESSIR/AMUSE_project_YESSIR/notebooks/collision_test.ipynb#W2sdnNjb2RlLXJlbW90ZQ%3D%3D?line=1'>2</a>\u001b[0m particles_cloud \u001b[39m=\u001b[39m evolve_molecular_cloud(particles_cloud, converter_cloud, \u001b[39m2\u001b[39;49m \u001b[39m|\u001b[39;49m units\u001b[39m.\u001b[39;49mMyr, \u001b[39m0.2\u001b[39;49m \u001b[39m|\u001b[39;49m units\u001b[39m.\u001b[39;49mMyr, \u001b[39m1312\u001b[39;49m)\n",
      "File \u001b[0;32m~/notebook/AMUSE_project_YESSIR/AMUSE_project_YESSIR/src/molecular_cloud_initialization.py:92\u001b[0m, in \u001b[0;36mevolve_molecular_cloud\u001b[0;34m(particles_cloud, converter_cloud, t_end, dt, seed)\u001b[0m\n\u001b[1;32m     88\u001b[0m N \u001b[39m=\u001b[39m \u001b[39m1000\u001b[39m \u001b[39m# amount of grid points\u001b[39;00m\n\u001b[1;32m     90\u001b[0m model_time \u001b[39m=\u001b[39m \u001b[39m0\u001b[39m \u001b[39m|\u001b[39m units\u001b[39m.\u001b[39mMyr\n\u001b[0;32m---> 92\u001b[0m density_map \u001b[39m=\u001b[39m plot_hydro(model_time, hydro_cloud, L, N)\n\u001b[1;32m     94\u001b[0m \u001b[39mprint\u001b[39m(\u001b[39m\"\u001b[39m\u001b[39mready for evolution\u001b[39m\u001b[39m\"\u001b[39m)\n\u001b[1;32m     95\u001b[0m \u001b[39mwhile\u001b[39;00m model_time \u001b[39m<\u001b[39m t_end:\n",
      "\u001b[0;31mNameError\u001b[0m: name 'plot_hydro' is not defined"
     ]
    }
   ],
   "source": [
    "particles_cloud, converter_cloud = make_molecular_cloud(100_000, 10_000_000 | units.MSun, 200 | units.parsec, 1312)\n",
    "particles_cloud = evolve_molecular_cloud(particles_cloud, converter_cloud, 2 | units.Myr, 0.2 | units.Myr, 1312)"
   ]
  },
  {
   "cell_type": "code",
   "execution_count": 4,
   "metadata": {},
   "outputs": [],
   "source": [
    "from amuse.lab import Particles\n",
    "from amuse.lab import nbody_system\n",
    "from amuse.couple import bridge\n",
    "import numpy as np"
   ]
  },
  {
   "cell_type": "code",
   "execution_count": 5,
   "metadata": {},
   "outputs": [],
   "source": [
    "bodies = Particles(1)\n",
    "bodies[0].name = \"star\"\n",
    "bodies[0].mass = 50 |units.MSun\n",
    "bodies[0].radius = 5 | units.RSun \n",
    "bodies[0].position = (0, 0, 1) * (250 | units.pc)\n",
    "bodies[0].velocity = (0, -1, 0) * (200 | units.kms)\n",
    "converter = nbody_system.nbody_to_si(bodies[0].mass.sum(), bodies[0].position.length())"
   ]
  },
  {
   "cell_type": "code",
   "execution_count": 7,
   "metadata": {},
   "outputs": [],
   "source": [
    "from amuse.community.bhtree.interface import BHTree\n",
    "\n",
    "gravity = BHTree(converter)\n",
    "gravity.particles.add_particles(bodies)\n",
    "channel = {\"from star\": bodies.new_channel_to(gravity.particles),\n",
    "            \"to_star\": gravity.particles.new_channel_to(bodies)}"
   ]
  },
  {
   "cell_type": "code",
   "execution_count": 9,
   "metadata": {
    "scrolled": false
   },
   "outputs": [
    {
     "ename": "CodeException",
     "evalue": "Exception when calling function 'commit_parameters', of code 'FiInterface', exception was 'lost connection to code'",
     "output_type": "error",
     "traceback": [
      "\u001b[0;31m---------------------------------------------------------------------------\u001b[0m",
      "\u001b[0;31mCodeException\u001b[0m                             Traceback (most recent call last)",
      "File \u001b[0;32m~/notebook/jupyterenv/lib/python3.8/site-packages/amuse/rfi/core.py:120\u001b[0m, in \u001b[0;36mCodeFunction.__call__\u001b[0;34m(self, *arguments_list, **keyword_arguments)\u001b[0m\n\u001b[1;32m    118\u001b[0m     \u001b[38;5;28mself\u001b[39m\u001b[38;5;241m.\u001b[39minterface\u001b[38;5;241m.\u001b[39mchannel\u001b[38;5;241m.\u001b[39msend_message(call_id, \u001b[38;5;28mself\u001b[39m\u001b[38;5;241m.\u001b[39mspecification\u001b[38;5;241m.\u001b[39mid, dtype_to_arguments \u001b[38;5;241m=\u001b[39m dtype_to_values)\n\u001b[0;32m--> 120\u001b[0m     dtype_to_result \u001b[38;5;241m=\u001b[39m \u001b[38;5;28;43mself\u001b[39;49m\u001b[38;5;241;43m.\u001b[39;49m\u001b[43minterface\u001b[49m\u001b[38;5;241;43m.\u001b[39;49m\u001b[43mchannel\u001b[49m\u001b[38;5;241;43m.\u001b[39;49m\u001b[43mrecv_message\u001b[49m\u001b[43m(\u001b[49m\u001b[43mcall_id\u001b[49m\u001b[43m,\u001b[49m\u001b[43m \u001b[49m\u001b[38;5;28;43mself\u001b[39;49m\u001b[38;5;241;43m.\u001b[39;49m\u001b[43mspecification\u001b[49m\u001b[38;5;241;43m.\u001b[39;49m\u001b[43mid\u001b[49m\u001b[43m,\u001b[49m\u001b[43m \u001b[49m\u001b[43mhandle_as_array\u001b[49m\u001b[43m)\u001b[49m\n\u001b[1;32m    121\u001b[0m \u001b[38;5;28;01mexcept\u001b[39;00m \u001b[38;5;167;01mException\u001b[39;00m \u001b[38;5;28;01mas\u001b[39;00m ex:\n",
      "File \u001b[0;32m~/notebook/jupyterenv/lib/python3.8/site-packages/amuse/rfi/channel.py:1971\u001b[0m, in \u001b[0;36mSocketChannel.recv_message\u001b[0;34m(self, call_id, function_id, handle_as_array, has_units)\u001b[0m\n\u001b[1;32m   1969\u001b[0m message \u001b[38;5;241m=\u001b[39m SocketMessage()\n\u001b[0;32m-> 1971\u001b[0m \u001b[43mmessage\u001b[49m\u001b[38;5;241;43m.\u001b[39;49m\u001b[43mreceive\u001b[49m\u001b[43m(\u001b[49m\u001b[38;5;28;43mself\u001b[39;49m\u001b[38;5;241;43m.\u001b[39;49m\u001b[43msocket\u001b[49m\u001b[43m)\u001b[49m\n\u001b[1;32m   1973\u001b[0m \u001b[38;5;28;01mif\u001b[39;00m message\u001b[38;5;241m.\u001b[39merror:\n",
      "File \u001b[0;32m~/notebook/jupyterenv/lib/python3.8/site-packages/amuse/rfi/channel.py:1519\u001b[0m, in \u001b[0;36mSocketMessage.receive\u001b[0;34m(self, socket)\u001b[0m\n\u001b[1;32m   1515\u001b[0m \u001b[38;5;28;01mdef\u001b[39;00m \u001b[38;5;21mreceive\u001b[39m(\u001b[38;5;28mself\u001b[39m, socket):\n\u001b[1;32m   1516\u001b[0m     \n\u001b[1;32m   1517\u001b[0m     \u001b[38;5;66;03m# logger.debug(\"receiving message\")\u001b[39;00m\n\u001b[0;32m-> 1519\u001b[0m     header_bytes \u001b[38;5;241m=\u001b[39m \u001b[38;5;28;43mself\u001b[39;49m\u001b[38;5;241;43m.\u001b[39;49m\u001b[43m_receive_all\u001b[49m\u001b[43m(\u001b[49m\u001b[38;5;241;43m44\u001b[39;49m\u001b[43m,\u001b[49m\u001b[43m \u001b[49m\u001b[43msocket\u001b[49m\u001b[43m)\u001b[49m\n\u001b[1;32m   1521\u001b[0m     flags \u001b[38;5;241m=\u001b[39m numpy\u001b[38;5;241m.\u001b[39mfrombuffer(header_bytes, dtype\u001b[38;5;241m=\u001b[39m\u001b[38;5;124m\"\u001b[39m\u001b[38;5;124mb\u001b[39m\u001b[38;5;124m\"\u001b[39m, count\u001b[38;5;241m=\u001b[39m\u001b[38;5;241m4\u001b[39m, offset\u001b[38;5;241m=\u001b[39m\u001b[38;5;241m0\u001b[39m)\n",
      "File \u001b[0;32m~/notebook/jupyterenv/lib/python3.8/site-packages/amuse/rfi/channel.py:1504\u001b[0m, in \u001b[0;36mSocketMessage._receive_all\u001b[0;34m(self, nbytes, thesocket)\u001b[0m\n\u001b[1;32m   1503\u001b[0m \u001b[38;5;28;01mif\u001b[39;00m \u001b[38;5;28mlen\u001b[39m(data_bytes) \u001b[38;5;241m==\u001b[39m \u001b[38;5;241m0\u001b[39m:\n\u001b[0;32m-> 1504\u001b[0m     \u001b[38;5;28;01mraise\u001b[39;00m exceptions\u001b[38;5;241m.\u001b[39mCodeException(\u001b[38;5;124m\"\u001b[39m\u001b[38;5;124mlost connection to code\u001b[39m\u001b[38;5;124m\"\u001b[39m)\n\u001b[1;32m   1506\u001b[0m result\u001b[38;5;241m.\u001b[39mappend(data_bytes)\n",
      "\u001b[0;31mCodeException\u001b[0m: lost connection to code",
      "\nDuring handling of the above exception, another exception occurred:\n",
      "\u001b[0;31mCodeException\u001b[0m                             Traceback (most recent call last)",
      "Cell \u001b[0;32mIn [9], line 19\u001b[0m\n\u001b[1;32m     16\u001b[0m hydro\u001b[38;5;241m.\u001b[39mparameters\u001b[38;5;241m.\u001b[39mgas_epsilon \u001b[38;5;241m=\u001b[39m eps\n\u001b[1;32m     17\u001b[0m hydro\u001b[38;5;241m.\u001b[39mparameters\u001b[38;5;241m.\u001b[39msph_h_const \u001b[38;5;241m=\u001b[39m eps\n\u001b[0;32m---> 19\u001b[0m \u001b[43mhydro\u001b[49m\u001b[38;5;241;43m.\u001b[39;49m\u001b[43mgas_particles\u001b[49m\u001b[38;5;241;43m.\u001b[39;49m\u001b[43madd_particles\u001b[49m\u001b[43m(\u001b[49m\u001b[43mparticles_cloud\u001b[49m\u001b[43m)\u001b[49m\n\u001b[1;32m     21\u001b[0m channel\u001b[38;5;241m.\u001b[39mupdate({\u001b[38;5;124m\"\u001b[39m\u001b[38;5;124mfrom_cloud\u001b[39m\u001b[38;5;124m\"\u001b[39m: particles_cloud\u001b[38;5;241m.\u001b[39mnew_channel_to(hydro\u001b[38;5;241m.\u001b[39mparticles)})\n\u001b[1;32m     22\u001b[0m channel\u001b[38;5;241m.\u001b[39mupdate({\u001b[38;5;124m\"\u001b[39m\u001b[38;5;124mto_cloud\u001b[39m\u001b[38;5;124m\"\u001b[39m: hydro\u001b[38;5;241m.\u001b[39mparticles\u001b[38;5;241m.\u001b[39mnew_channel_to(particles_cloud)})\n",
      "File \u001b[0;32m~/notebook/jupyterenv/lib/python3.8/site-packages/amuse/datamodel/particles.py:626\u001b[0m, in \u001b[0;36mAbstractParticleSet.add_particles\u001b[0;34m(self, particles)\u001b[0m\n\u001b[1;32m    624\u001b[0m         converted\u001b[38;5;241m.\u001b[39mappend(x)\n\u001b[1;32m    625\u001b[0m \u001b[38;5;28;01mtry\u001b[39;00m:\n\u001b[0;32m--> 626\u001b[0m     \u001b[38;5;28;43mself\u001b[39;49m\u001b[38;5;241;43m.\u001b[39;49m\u001b[43madd_particles_to_store\u001b[49m\u001b[43m(\u001b[49m\u001b[43mkeys\u001b[49m\u001b[43m,\u001b[49m\u001b[43m \u001b[49m\u001b[43mattributes\u001b[49m\u001b[43m,\u001b[49m\u001b[43m \u001b[49m\u001b[43mconverted\u001b[49m\u001b[43m)\u001b[49m\n\u001b[1;32m    627\u001b[0m \u001b[38;5;28;01mexcept\u001b[39;00m exceptions\u001b[38;5;241m.\u001b[39mMissingAttributesAmuseException \u001b[38;5;28;01mas\u001b[39;00m caught_exception:\n\u001b[1;32m    628\u001b[0m     \u001b[38;5;28;01mfor\u001b[39;00m attribute_name \u001b[38;5;129;01min\u001b[39;00m caught_exception\u001b[38;5;241m.\u001b[39mmissing_attributes:\n",
      "File \u001b[0;32m~/notebook/jupyterenv/lib/python3.8/site-packages/amuse/datamodel/particles.py:1339\u001b[0m, in \u001b[0;36mParticles.add_particles_to_store\u001b[0;34m(self, keys, attributes, values)\u001b[0m\n\u001b[1;32m   1338\u001b[0m \u001b[38;5;28;01mdef\u001b[39;00m \u001b[38;5;21madd_particles_to_store\u001b[39m(\u001b[38;5;28mself\u001b[39m, keys, attributes \u001b[38;5;241m=\u001b[39m [], values \u001b[38;5;241m=\u001b[39m []):\n\u001b[0;32m-> 1339\u001b[0m     \u001b[38;5;28;43mself\u001b[39;49m\u001b[38;5;241;43m.\u001b[39;49m\u001b[43m_private\u001b[49m\u001b[38;5;241;43m.\u001b[39;49m\u001b[43mattribute_storage\u001b[49m\u001b[38;5;241;43m.\u001b[39;49m\u001b[43madd_particles_to_store\u001b[49m\u001b[43m(\u001b[49m\u001b[43mkeys\u001b[49m\u001b[43m,\u001b[49m\u001b[43m \u001b[49m\u001b[43mattributes\u001b[49m\u001b[43m,\u001b[49m\u001b[43m \u001b[49m\u001b[43mvalues\u001b[49m\u001b[43m)\u001b[49m\n\u001b[1;32m   1340\u001b[0m     \u001b[38;5;28mself\u001b[39m\u001b[38;5;241m.\u001b[39m_private\u001b[38;5;241m.\u001b[39mversion \u001b[38;5;241m+\u001b[39m\u001b[38;5;241m=\u001b[39m \u001b[38;5;241m1\u001b[39m\n",
      "File \u001b[0;32m~/notebook/jupyterenv/lib/python3.8/site-packages/amuse/datamodel/incode_storage.py:827\u001b[0m, in \u001b[0;36mInCodeAttributeStorage.add_particles_to_store\u001b[0;34m(self, keys, attributes, values)\u001b[0m\n\u001b[1;32m    825\u001b[0m \u001b[38;5;28;01mdef\u001b[39;00m \u001b[38;5;21madd_particles_to_store\u001b[39m(\u001b[38;5;28mself\u001b[39m, keys, attributes \u001b[38;5;241m=\u001b[39m [], values \u001b[38;5;241m=\u001b[39m []):\n\u001b[0;32m--> 827\u001b[0m     indices \u001b[38;5;241m=\u001b[39m \u001b[38;5;28;43mself\u001b[39;49m\u001b[38;5;241;43m.\u001b[39;49m\u001b[43mnew_particle_method\u001b[49m\u001b[38;5;241;43m.\u001b[39;49m\u001b[43madd_entities\u001b[49m\u001b[43m(\u001b[49m\u001b[43mattributes\u001b[49m\u001b[43m,\u001b[49m\u001b[43m \u001b[49m\u001b[43mvalues\u001b[49m\u001b[43m)\u001b[49m\n\u001b[1;32m    829\u001b[0m     \u001b[38;5;28;01mif\u001b[39;00m \u001b[38;5;28mlen\u001b[39m(\u001b[38;5;28mself\u001b[39m\u001b[38;5;241m.\u001b[39mparticle_keys) \u001b[38;5;241m>\u001b[39m \u001b[38;5;241m0\u001b[39m:\n\u001b[1;32m    830\u001b[0m         previous_length \u001b[38;5;241m=\u001b[39m \u001b[38;5;28mlen\u001b[39m(\u001b[38;5;28mself\u001b[39m\u001b[38;5;241m.\u001b[39mparticle_keys)\n",
      "File \u001b[0;32m~/notebook/jupyterenv/lib/python3.8/site-packages/amuse/datamodel/incode_storage.py:482\u001b[0m, in \u001b[0;36mNewParticleMethod.add_entities\u001b[0;34m(self, attributes, values)\u001b[0m\n\u001b[1;32m    480\u001b[0m \u001b[38;5;28;01mdef\u001b[39;00m \u001b[38;5;21madd_entities\u001b[39m(\u001b[38;5;28mself\u001b[39m, attributes, values):\n\u001b[1;32m    481\u001b[0m     list_arguments,keyword_arguments \u001b[38;5;241m=\u001b[39m \u001b[38;5;28mself\u001b[39m\u001b[38;5;241m.\u001b[39mconvert_attributes_and_values_to_list_and_keyword_arguments(attributes, values)\n\u001b[0;32m--> 482\u001b[0m     indices \u001b[38;5;241m=\u001b[39m \u001b[38;5;28;43mself\u001b[39;49m\u001b[38;5;241;43m.\u001b[39;49m\u001b[43mmethod\u001b[49m\u001b[43m(\u001b[49m\u001b[38;5;241;43m*\u001b[39;49m\u001b[43mlist_arguments\u001b[49m\u001b[43m,\u001b[49m\u001b[43m \u001b[49m\u001b[38;5;241;43m*\u001b[39;49m\u001b[38;5;241;43m*\u001b[39;49m\u001b[43mkeyword_arguments\u001b[49m\u001b[43m)\u001b[49m\n\u001b[1;32m    483\u001b[0m     \u001b[38;5;28;01mreturn\u001b[39;00m indices\n",
      "File \u001b[0;32m~/notebook/jupyterenv/lib/python3.8/site-packages/amuse/support/methods.py:168\u001b[0m, in \u001b[0;36mCodeMethodWrapper.__call__\u001b[0;34m(self, *list_arguments, **keyword_arguments)\u001b[0m\n\u001b[1;32m    166\u001b[0m \u001b[38;5;28mobject\u001b[39m \u001b[38;5;241m=\u001b[39m \u001b[38;5;28mself\u001b[39m\u001b[38;5;241m.\u001b[39mprecall()\n\u001b[1;32m    167\u001b[0m list_arguments, keyword_arguments \u001b[38;5;241m=\u001b[39m \u001b[38;5;28mself\u001b[39m\u001b[38;5;241m.\u001b[39mconvert_arguments(list_arguments, keyword_arguments)\n\u001b[0;32m--> 168\u001b[0m result \u001b[38;5;241m=\u001b[39m \u001b[38;5;28;43mself\u001b[39;49m\u001b[38;5;241;43m.\u001b[39;49m\u001b[43mmethod\u001b[49m\u001b[43m(\u001b[49m\u001b[38;5;241;43m*\u001b[39;49m\u001b[43mlist_arguments\u001b[49m\u001b[43m,\u001b[49m\u001b[43m \u001b[49m\u001b[38;5;241;43m*\u001b[39;49m\u001b[38;5;241;43m*\u001b[39;49m\u001b[43mkeyword_arguments\u001b[49m\u001b[43m)\u001b[49m\n\u001b[1;32m    170\u001b[0m result \u001b[38;5;241m=\u001b[39m \u001b[38;5;28mself\u001b[39m\u001b[38;5;241m.\u001b[39mconvert_result(result)\n\u001b[1;32m    172\u001b[0m \u001b[38;5;28mself\u001b[39m\u001b[38;5;241m.\u001b[39mpostcall(\u001b[38;5;28mobject\u001b[39m)\n",
      "File \u001b[0;32m~/notebook/jupyterenv/lib/python3.8/site-packages/amuse/support/methods.py:166\u001b[0m, in \u001b[0;36mCodeMethodWrapper.__call__\u001b[0;34m(self, *list_arguments, **keyword_arguments)\u001b[0m\n\u001b[1;32m    163\u001b[0m     request\u001b[38;5;241m.\u001b[39m_result_index \u001b[38;5;241m=\u001b[39m \u001b[38;5;28mself\u001b[39m\u001b[38;5;241m.\u001b[39mconvert_result_index()\n\u001b[1;32m    164\u001b[0m     \u001b[38;5;28;01mreturn\u001b[39;00m request\n\u001b[0;32m--> 166\u001b[0m \u001b[38;5;28mobject\u001b[39m \u001b[38;5;241m=\u001b[39m \u001b[38;5;28;43mself\u001b[39;49m\u001b[38;5;241;43m.\u001b[39;49m\u001b[43mprecall\u001b[49m\u001b[43m(\u001b[49m\u001b[43m)\u001b[49m\n\u001b[1;32m    167\u001b[0m list_arguments, keyword_arguments \u001b[38;5;241m=\u001b[39m \u001b[38;5;28mself\u001b[39m\u001b[38;5;241m.\u001b[39mconvert_arguments(list_arguments, keyword_arguments)\n\u001b[1;32m    168\u001b[0m result \u001b[38;5;241m=\u001b[39m \u001b[38;5;28mself\u001b[39m\u001b[38;5;241m.\u001b[39mmethod(\u001b[38;5;241m*\u001b[39mlist_arguments, \u001b[38;5;241m*\u001b[39m\u001b[38;5;241m*\u001b[39mkeyword_arguments)\n",
      "File \u001b[0;32m~/notebook/jupyterenv/lib/python3.8/site-packages/amuse/support/methods.py:215\u001b[0m, in \u001b[0;36mCodeMethodWrapper.precall\u001b[0;34m(self)\u001b[0m\n\u001b[1;32m    214\u001b[0m \u001b[38;5;28;01mdef\u001b[39;00m \u001b[38;5;21mprecall\u001b[39m(\u001b[38;5;28mself\u001b[39m):\n\u001b[0;32m--> 215\u001b[0m     \u001b[38;5;28;01mreturn\u001b[39;00m \u001b[38;5;28;43mself\u001b[39;49m\u001b[38;5;241;43m.\u001b[39;49m\u001b[43mdefinition\u001b[49m\u001b[38;5;241;43m.\u001b[39;49m\u001b[43mprecall\u001b[49m\u001b[43m(\u001b[49m\u001b[38;5;28;43mself\u001b[39;49m\u001b[43m)\u001b[49m\n",
      "File \u001b[0;32m~/notebook/jupyterenv/lib/python3.8/site-packages/amuse/support/interface.py:355\u001b[0m, in \u001b[0;36mStateMethodDefinition.precall\u001b[0;34m(self, method)\u001b[0m\n\u001b[1;32m    353\u001b[0m \u001b[38;5;28;01mfor\u001b[39;00m path, to_state \u001b[38;5;129;01min\u001b[39;00m \u001b[38;5;28msorted\u001b[39m(possible_paths, key\u001b[38;5;241m=\u001b[39m\u001b[38;5;28;01mlambda\u001b[39;00m x: \u001b[38;5;28mlen\u001b[39m(x[\u001b[38;5;241m0\u001b[39m])):\n\u001b[1;32m    354\u001b[0m     \u001b[38;5;28;01mfor\u001b[39;00m transition \u001b[38;5;129;01min\u001b[39;00m path:\n\u001b[0;32m--> 355\u001b[0m         \u001b[43mtransition\u001b[49m\u001b[38;5;241;43m.\u001b[39;49m\u001b[43mdo\u001b[49m\u001b[43m(\u001b[49m\u001b[43m)\u001b[49m\n\u001b[1;32m    356\u001b[0m     \u001b[38;5;28;01mreturn\u001b[39;00m to_state\n",
      "File \u001b[0;32m~/notebook/jupyterenv/lib/python3.8/site-packages/amuse/support/state.py:123\u001b[0m, in \u001b[0;36mStateTransition.do\u001b[0;34m(self)\u001b[0m\n\u001b[1;32m    121\u001b[0m     \u001b[38;5;28mself\u001b[39m\u001b[38;5;241m.\u001b[39mhandler\u001b[38;5;241m.\u001b[39mcurrent_state \u001b[38;5;241m=\u001b[39m \u001b[38;5;28mself\u001b[39m\u001b[38;5;241m.\u001b[39mto_state\n\u001b[1;32m    122\u001b[0m \u001b[38;5;28;01melse\u001b[39;00m:\n\u001b[0;32m--> 123\u001b[0m     \u001b[38;5;28;43mself\u001b[39;49m\u001b[38;5;241;43m.\u001b[39;49m\u001b[43mmethod\u001b[49m\u001b[38;5;241;43m.\u001b[39;49m\u001b[43mnew_method\u001b[49m\u001b[43m(\u001b[49m\u001b[43m)\u001b[49m\u001b[43m(\u001b[49m\u001b[43m)\u001b[49m\n",
      "File \u001b[0;32m~/notebook/jupyterenv/lib/python3.8/site-packages/amuse/support/methods.py:168\u001b[0m, in \u001b[0;36mCodeMethodWrapper.__call__\u001b[0;34m(self, *list_arguments, **keyword_arguments)\u001b[0m\n\u001b[1;32m    166\u001b[0m \u001b[38;5;28mobject\u001b[39m \u001b[38;5;241m=\u001b[39m \u001b[38;5;28mself\u001b[39m\u001b[38;5;241m.\u001b[39mprecall()\n\u001b[1;32m    167\u001b[0m list_arguments, keyword_arguments \u001b[38;5;241m=\u001b[39m \u001b[38;5;28mself\u001b[39m\u001b[38;5;241m.\u001b[39mconvert_arguments(list_arguments, keyword_arguments)\n\u001b[0;32m--> 168\u001b[0m result \u001b[38;5;241m=\u001b[39m \u001b[38;5;28;43mself\u001b[39;49m\u001b[38;5;241;43m.\u001b[39;49m\u001b[43mmethod\u001b[49m\u001b[43m(\u001b[49m\u001b[38;5;241;43m*\u001b[39;49m\u001b[43mlist_arguments\u001b[49m\u001b[43m,\u001b[49m\u001b[43m \u001b[49m\u001b[38;5;241;43m*\u001b[39;49m\u001b[38;5;241;43m*\u001b[39;49m\u001b[43mkeyword_arguments\u001b[49m\u001b[43m)\u001b[49m\n\u001b[1;32m    170\u001b[0m result \u001b[38;5;241m=\u001b[39m \u001b[38;5;28mself\u001b[39m\u001b[38;5;241m.\u001b[39mconvert_result(result)\n\u001b[1;32m    172\u001b[0m \u001b[38;5;28mself\u001b[39m\u001b[38;5;241m.\u001b[39mpostcall(\u001b[38;5;28mobject\u001b[39m)\n",
      "File \u001b[0;32m~/notebook/jupyterenv/lib/python3.8/site-packages/amuse/community/interface/gd.py:1490\u001b[0m, in \u001b[0;36mGravitationalDynamics.commit_parameters\u001b[0;34m(self)\u001b[0m\n\u001b[1;32m   1488\u001b[0m \u001b[38;5;28mself\u001b[39m\u001b[38;5;241m.\u001b[39mparameters\u001b[38;5;241m.\u001b[39msend_not_set_parameters_to_code()\n\u001b[1;32m   1489\u001b[0m \u001b[38;5;28mself\u001b[39m\u001b[38;5;241m.\u001b[39mparameters\u001b[38;5;241m.\u001b[39msend_cached_parameters_to_code()\n\u001b[0;32m-> 1490\u001b[0m \u001b[38;5;28;43mself\u001b[39;49m\u001b[38;5;241;43m.\u001b[39;49m\u001b[43moverridden\u001b[49m\u001b[43m(\u001b[49m\u001b[43m)\u001b[49m\u001b[38;5;241;43m.\u001b[39;49m\u001b[43mcommit_parameters\u001b[49m\u001b[43m(\u001b[49m\u001b[43m)\u001b[49m\n",
      "File \u001b[0;32m~/notebook/jupyterenv/lib/python3.8/site-packages/amuse/support/methods.py:168\u001b[0m, in \u001b[0;36mCodeMethodWrapper.__call__\u001b[0;34m(self, *list_arguments, **keyword_arguments)\u001b[0m\n\u001b[1;32m    166\u001b[0m \u001b[38;5;28mobject\u001b[39m \u001b[38;5;241m=\u001b[39m \u001b[38;5;28mself\u001b[39m\u001b[38;5;241m.\u001b[39mprecall()\n\u001b[1;32m    167\u001b[0m list_arguments, keyword_arguments \u001b[38;5;241m=\u001b[39m \u001b[38;5;28mself\u001b[39m\u001b[38;5;241m.\u001b[39mconvert_arguments(list_arguments, keyword_arguments)\n\u001b[0;32m--> 168\u001b[0m result \u001b[38;5;241m=\u001b[39m \u001b[38;5;28;43mself\u001b[39;49m\u001b[38;5;241;43m.\u001b[39;49m\u001b[43mmethod\u001b[49m\u001b[43m(\u001b[49m\u001b[38;5;241;43m*\u001b[39;49m\u001b[43mlist_arguments\u001b[49m\u001b[43m,\u001b[49m\u001b[43m \u001b[49m\u001b[38;5;241;43m*\u001b[39;49m\u001b[38;5;241;43m*\u001b[39;49m\u001b[43mkeyword_arguments\u001b[49m\u001b[43m)\u001b[49m\n\u001b[1;32m    170\u001b[0m result \u001b[38;5;241m=\u001b[39m \u001b[38;5;28mself\u001b[39m\u001b[38;5;241m.\u001b[39mconvert_result(result)\n\u001b[1;32m    172\u001b[0m \u001b[38;5;28mself\u001b[39m\u001b[38;5;241m.\u001b[39mpostcall(\u001b[38;5;28mobject\u001b[39m)\n",
      "File \u001b[0;32m~/notebook/jupyterenv/lib/python3.8/site-packages/amuse/support/methods.py:168\u001b[0m, in \u001b[0;36mCodeMethodWrapper.__call__\u001b[0;34m(self, *list_arguments, **keyword_arguments)\u001b[0m\n\u001b[1;32m    166\u001b[0m \u001b[38;5;28mobject\u001b[39m \u001b[38;5;241m=\u001b[39m \u001b[38;5;28mself\u001b[39m\u001b[38;5;241m.\u001b[39mprecall()\n\u001b[1;32m    167\u001b[0m list_arguments, keyword_arguments \u001b[38;5;241m=\u001b[39m \u001b[38;5;28mself\u001b[39m\u001b[38;5;241m.\u001b[39mconvert_arguments(list_arguments, keyword_arguments)\n\u001b[0;32m--> 168\u001b[0m result \u001b[38;5;241m=\u001b[39m \u001b[38;5;28;43mself\u001b[39;49m\u001b[38;5;241;43m.\u001b[39;49m\u001b[43mmethod\u001b[49m\u001b[43m(\u001b[49m\u001b[38;5;241;43m*\u001b[39;49m\u001b[43mlist_arguments\u001b[49m\u001b[43m,\u001b[49m\u001b[43m \u001b[49m\u001b[38;5;241;43m*\u001b[39;49m\u001b[38;5;241;43m*\u001b[39;49m\u001b[43mkeyword_arguments\u001b[49m\u001b[43m)\u001b[49m\n\u001b[1;32m    170\u001b[0m result \u001b[38;5;241m=\u001b[39m \u001b[38;5;28mself\u001b[39m\u001b[38;5;241m.\u001b[39mconvert_result(result)\n\u001b[1;32m    172\u001b[0m \u001b[38;5;28mself\u001b[39m\u001b[38;5;241m.\u001b[39mpostcall(\u001b[38;5;28mobject\u001b[39m)\n",
      "File \u001b[0;32m~/notebook/jupyterenv/lib/python3.8/site-packages/amuse/support/methods.py:168\u001b[0m, in \u001b[0;36mCodeMethodWrapper.__call__\u001b[0;34m(self, *list_arguments, **keyword_arguments)\u001b[0m\n\u001b[1;32m    166\u001b[0m \u001b[38;5;28mobject\u001b[39m \u001b[38;5;241m=\u001b[39m \u001b[38;5;28mself\u001b[39m\u001b[38;5;241m.\u001b[39mprecall()\n\u001b[1;32m    167\u001b[0m list_arguments, keyword_arguments \u001b[38;5;241m=\u001b[39m \u001b[38;5;28mself\u001b[39m\u001b[38;5;241m.\u001b[39mconvert_arguments(list_arguments, keyword_arguments)\n\u001b[0;32m--> 168\u001b[0m result \u001b[38;5;241m=\u001b[39m \u001b[38;5;28;43mself\u001b[39;49m\u001b[38;5;241;43m.\u001b[39;49m\u001b[43mmethod\u001b[49m\u001b[43m(\u001b[49m\u001b[38;5;241;43m*\u001b[39;49m\u001b[43mlist_arguments\u001b[49m\u001b[43m,\u001b[49m\u001b[43m \u001b[49m\u001b[38;5;241;43m*\u001b[39;49m\u001b[38;5;241;43m*\u001b[39;49m\u001b[43mkeyword_arguments\u001b[49m\u001b[43m)\u001b[49m\n\u001b[1;32m    170\u001b[0m result \u001b[38;5;241m=\u001b[39m \u001b[38;5;28mself\u001b[39m\u001b[38;5;241m.\u001b[39mconvert_result(result)\n\u001b[1;32m    172\u001b[0m \u001b[38;5;28mself\u001b[39m\u001b[38;5;241m.\u001b[39mpostcall(\u001b[38;5;28mobject\u001b[39m)\n",
      "File \u001b[0;32m~/notebook/jupyterenv/lib/python3.8/site-packages/amuse/support/methods.py:267\u001b[0m, in \u001b[0;36mProxyingMethodWrapper.__call__\u001b[0;34m(self, *list_arguments, **keyword_arguments)\u001b[0m\n\u001b[1;32m    266\u001b[0m \u001b[38;5;28;01mdef\u001b[39;00m \u001b[38;5;21m__call__\u001b[39m(\u001b[38;5;28mself\u001b[39m, \u001b[38;5;241m*\u001b[39mlist_arguments, \u001b[38;5;241m*\u001b[39m\u001b[38;5;241m*\u001b[39mkeyword_arguments):\n\u001b[0;32m--> 267\u001b[0m     \u001b[38;5;28;01mreturn\u001b[39;00m \u001b[38;5;28;43mself\u001b[39;49m\u001b[38;5;241;43m.\u001b[39;49m\u001b[43mmethod\u001b[49m\u001b[43m(\u001b[49m\u001b[38;5;241;43m*\u001b[39;49m\u001b[43mlist_arguments\u001b[49m\u001b[43m,\u001b[49m\u001b[43m \u001b[49m\u001b[38;5;241;43m*\u001b[39;49m\u001b[38;5;241;43m*\u001b[39;49m\u001b[43mkeyword_arguments\u001b[49m\u001b[43m)\u001b[49m\n",
      "File \u001b[0;32m~/notebook/jupyterenv/lib/python3.8/site-packages/amuse/rfi/core.py:123\u001b[0m, in \u001b[0;36mCodeFunction.__call__\u001b[0;34m(self, *arguments_list, **keyword_arguments)\u001b[0m\n\u001b[1;32m    121\u001b[0m \u001b[38;5;28;01mexcept\u001b[39;00m \u001b[38;5;167;01mException\u001b[39;00m \u001b[38;5;28;01mas\u001b[39;00m ex:\n\u001b[1;32m    122\u001b[0m     CODE_LOG\u001b[38;5;241m.\u001b[39minfo(\u001b[38;5;124m\"\u001b[39m\u001b[38;5;124mException when calling function \u001b[39m\u001b[38;5;124m'\u001b[39m\u001b[38;5;132;01m{0}\u001b[39;00m\u001b[38;5;124m'\u001b[39m\u001b[38;5;124m, of code \u001b[39m\u001b[38;5;124m'\u001b[39m\u001b[38;5;132;01m{1}\u001b[39;00m\u001b[38;5;124m'\u001b[39m\u001b[38;5;124m, exception was \u001b[39m\u001b[38;5;124m'\u001b[39m\u001b[38;5;132;01m{2}\u001b[39;00m\u001b[38;5;124m'\u001b[39m\u001b[38;5;124m\"\u001b[39m\u001b[38;5;241m.\u001b[39mformat(\u001b[38;5;28mself\u001b[39m\u001b[38;5;241m.\u001b[39mspecification\u001b[38;5;241m.\u001b[39mname, \u001b[38;5;28mtype\u001b[39m(\u001b[38;5;28mself\u001b[39m\u001b[38;5;241m.\u001b[39minterface)\u001b[38;5;241m.\u001b[39m\u001b[38;5;18m__name__\u001b[39m, ex))\n\u001b[0;32m--> 123\u001b[0m     \u001b[38;5;28;01mraise\u001b[39;00m exceptions\u001b[38;5;241m.\u001b[39mCodeException(\u001b[38;5;124m\"\u001b[39m\u001b[38;5;124mException when calling function \u001b[39m\u001b[38;5;124m'\u001b[39m\u001b[38;5;132;01m{0}\u001b[39;00m\u001b[38;5;124m'\u001b[39m\u001b[38;5;124m, of code \u001b[39m\u001b[38;5;124m'\u001b[39m\u001b[38;5;132;01m{1}\u001b[39;00m\u001b[38;5;124m'\u001b[39m\u001b[38;5;124m, exception was \u001b[39m\u001b[38;5;124m'\u001b[39m\u001b[38;5;132;01m{2}\u001b[39;00m\u001b[38;5;124m'\u001b[39m\u001b[38;5;124m\"\u001b[39m\u001b[38;5;241m.\u001b[39mformat(\u001b[38;5;28mself\u001b[39m\u001b[38;5;241m.\u001b[39mspecification\u001b[38;5;241m.\u001b[39mname, \u001b[38;5;28mtype\u001b[39m(\u001b[38;5;28mself\u001b[39m\u001b[38;5;241m.\u001b[39minterface)\u001b[38;5;241m.\u001b[39m\u001b[38;5;18m__name__\u001b[39m, ex))\n\u001b[1;32m    125\u001b[0m result \u001b[38;5;241m=\u001b[39m \u001b[38;5;28mself\u001b[39m\u001b[38;5;241m.\u001b[39mconverted_results(dtype_to_result, handle_as_array)\n\u001b[1;32m    127\u001b[0m \u001b[38;5;28;01mif\u001b[39;00m \u001b[38;5;129;01mnot\u001b[39;00m \u001b[38;5;28mself\u001b[39m\u001b[38;5;241m.\u001b[39mowner \u001b[38;5;129;01mis\u001b[39;00m \u001b[38;5;28;01mNone\u001b[39;00m:\n",
      "\u001b[0;31mCodeException\u001b[0m: Exception when calling function 'commit_parameters', of code 'FiInterface', exception was 'lost connection to code'"
     ]
    }
   ],
   "source": [
    "from amuse.community.fi.interface import Fi\n",
    "\n",
    "t_end = ((2*bodies[0].position[2]) / np.abs(bodies[0].velocity[1])).in_(units.Myr)\n",
    "dt = t_end*0.1\n",
    "\n",
    "hydro = Fi(converter_cloud)\n",
    "hydro.parameters.use_hydro_flag = True\n",
    "hydro.parameters.radiation_flag = False\n",
    "hydro.parameters.gamma = 1\n",
    "hydro.parameters.isothermal_flag = False\n",
    "hydro.parameters.integrate_entropy_flag = True\n",
    "hydro.parameters.timestep = 0.01*dt \n",
    "hydro.parameters.verbosity = 0\n",
    "hydro.parameters.eps_is_h_flag = False    # h_smooth is constant\n",
    "eps = 1 | units.RSun\n",
    "hydro.parameters.gas_epsilon = eps\n",
    "hydro.parameters.sph_h_const = eps\n",
    "\n",
    "hydro.gas_particles.add_particles(particles_cloud)\n",
    "\n",
    "channel.update({\"from_cloud\": particles_cloud.new_channel_to(hydro.particles)})\n",
    "channel.update({\"to_cloud\": hydro.particles.new_channel_to(particles_cloud)})\n",
    "channel.update({\"from_moon\": bodies.new_channel_to(hydro.dm_particles)})\n",
    "channel.update({\"to_moon\": hydro.dm_particles.new_channel_to(bodies)})"
   ]
  },
  {
   "cell_type": "code",
   "execution_count": null,
   "metadata": {},
   "outputs": [],
   "source": []
  }
 ],
 "metadata": {
  "kernelspec": {
   "display_name": "Python 3 (ipykernel)",
   "language": "python",
   "name": "python3"
  },
  "language_info": {
   "codemirror_mode": {
    "name": "ipython",
    "version": 3
   },
   "file_extension": ".py",
   "mimetype": "text/x-python",
   "name": "python",
   "nbconvert_exporter": "python",
   "pygments_lexer": "ipython3",
   "version": "3.8.10"
  }
 },
 "nbformat": 4,
 "nbformat_minor": 2
}
